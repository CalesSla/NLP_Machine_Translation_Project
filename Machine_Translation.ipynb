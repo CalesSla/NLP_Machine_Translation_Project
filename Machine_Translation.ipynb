{
 "cells": [
  {
   "cell_type": "markdown",
   "id": "f554ccbd",
   "metadata": {},
   "source": [
    "# Machine Translation Project"
   ]
  },
  {
   "cell_type": "markdown",
   "id": "2cbefb17",
   "metadata": {},
   "source": [
    "### Step 1. Import dependencies and script setup"
   ]
  },
  {
   "cell_type": "code",
   "execution_count": 13,
   "id": "c6ea1985",
   "metadata": {},
   "outputs": [
    {
     "name": "stdout",
     "output_type": "stream",
     "text": [
      "The autoreload extension is already loaded. To reload it, use:\n",
      "  %reload_ext autoreload\n"
     ]
    }
   ],
   "source": [
    "%load_ext autoreload\n",
    "%autoreload 1\n",
    "\n",
    "import os\n",
    "import collections\n",
    "import numpy as np\n",
    "from keras.preprocessing.text import Tokenizer\n",
    "from keras.preprocessing.sequence import pad_sequences\n",
    "from keras.models import Model\n",
    "from keras.layers import GRU, Input, Dense, TimeDistributed, Activation, RepeatVector, Bidirectional, Concatenate, LSTM\n",
    "from keras.layers.embeddings import Embedding\n",
    "from tensorflow.keras.optimizers import Adam\n",
    "from keras.losses import sparse_categorical_crossentropy\n",
    "from tensorflow.python.client import device_lib\n",
    "\n",
    "# Data loader\n",
    "def load_data(path):\n",
    "    input_file = os.path.join(path)\n",
    "    with open(input_file, \"r\") as f:\n",
    "        data = f.read()\n",
    "    return data.split('\\n')"
   ]
  },
  {
   "cell_type": "code",
   "execution_count": 15,
   "id": "2ea3facf",
   "metadata": {},
   "outputs": [
    {
     "name": "stdout",
     "output_type": "stream",
     "text": [
      "[name: \"/device:CPU:0\"\n",
      "device_type: \"CPU\"\n",
      "memory_limit: 268435456\n",
      "locality {\n",
      "}\n",
      "incarnation: 8435159831571808138\n",
      "xla_global_id: -1\n",
      ", name: \"/device:GPU:0\"\n",
      "device_type: \"GPU\"\n",
      "memory_limit: 5376753664\n",
      "locality {\n",
      "  bus_id: 1\n",
      "  links {\n",
      "  }\n",
      "}\n",
      "incarnation: 11986777501007342572\n",
      "physical_device_desc: \"device: 0, name: NVIDIA GeForce RTX 3070, pci bus id: 0000:01:00.0, compute capability: 8.6\"\n",
      "xla_global_id: 416903419\n",
      "]\n"
     ]
    }
   ],
   "source": [
    "# CPU/GPU device check\n",
    "print(device_lib.list_local_devices())"
   ]
  },
  {
   "cell_type": "markdown",
   "id": "04dbb28e",
   "metadata": {},
   "source": [
    "### Step 2. Data load and exploration"
   ]
  },
  {
   "cell_type": "code",
   "execution_count": 18,
   "id": "6a81d67b",
   "metadata": {},
   "outputs": [],
   "source": [
    "# English sentences\n",
    "english_sentences = load_data('data/small_vocab_en')\n",
    "# French sentences\n",
    "french_sentences = load_data('data/small_vocab_fr')"
   ]
  },
  {
   "cell_type": "code",
   "execution_count": 21,
   "id": "9ce6e797",
   "metadata": {},
   "outputs": [
    {
     "name": "stdout",
     "output_type": "stream",
     "text": [
      "English sentence 1:  new jersey is sometimes quiet during autumn , and it is snowy in april .\n",
      "French translation 1:  new jersey est parfois calme pendant l' automne , et il est neigeux en avril .\n",
      "English sentence 2:  the united states is usually chilly during july , and it is usually freezing in november .\n",
      "French translation 2:  les Ã©tats-unis est gÃ©nÃ©ralement froid en juillet , et il gÃ¨le habituellement en novembre .\n"
     ]
    }
   ],
   "source": [
    "# Sentence examples\n",
    "for sample_i in range(2):\n",
    "    print('English sentence {}:  {}'.format(sample_i + 1, english_sentences[sample_i]))\n",
    "    print('French translation {}:  {}'.format(sample_i + 1, french_sentences[sample_i]))"
   ]
  },
  {
   "cell_type": "code",
   "execution_count": 23,
   "id": "4caceac2",
   "metadata": {},
   "outputs": [
    {
     "name": "stdout",
     "output_type": "stream",
     "text": [
      "1823250 English words.\n",
      "227 unique English words.\n",
      "10 Most common words in the English dataset:\n",
      "\"is\" \",\" \".\" \"in\" \"it\" \"during\" \"the\" \"but\" \"and\" \"sometimes\"\n",
      "\n",
      "1961295 French words.\n",
      "355 unique French words.\n",
      "10 Most common words in the French dataset:\n",
      "\"est\" \".\" \",\" \"en\" \"il\" \"les\" \"mais\" \"et\" \"la\" \"parfois\"\n"
     ]
    }
   ],
   "source": [
    "# Data exploration and main metrics\n",
    "\n",
    "english_words_counter = collections.Counter([word for sentence in english_sentences for word in sentence.split()])\n",
    "french_words_counter = collections.Counter([word for sentence in french_sentences for word in sentence.split()])\n",
    "\n",
    "print('{} English words.'.format(len([word for sentence in english_sentences for word in sentence.split()])))\n",
    "print('{} unique English words.'.format(len(english_words_counter)))\n",
    "print('10 Most common words in the English dataset:')\n",
    "print('\"' + '\" \"'.join(list(zip(*english_words_counter.most_common(10)))[0]) + '\"')\n",
    "print()\n",
    "print('{} French words.'.format(len([word for sentence in french_sentences for word in sentence.split()])))\n",
    "print('{} unique French words.'.format(len(french_words_counter)))\n",
    "print('10 Most common words in the French dataset:')\n",
    "print('\"' + '\" \"'.join(list(zip(*french_words_counter.most_common(10)))[0]) + '\"')"
   ]
  },
  {
   "cell_type": "markdown",
   "id": "1daee9ec",
   "metadata": {},
   "source": [
    "### Step 3. Data preprocessing"
   ]
  },
  {
   "cell_type": "markdown",
   "id": "4702c9ed",
   "metadata": {},
   "source": [
    "#### Tokenization"
   ]
  },
  {
   "cell_type": "code",
   "execution_count": 26,
   "id": "7cf17cb8",
   "metadata": {},
   "outputs": [
    {
     "name": "stdout",
     "output_type": "stream",
     "text": [
      "{'the': 1, 'quick': 2, 'a': 3, 'brown': 4, 'fox': 5, 'jumps': 6, 'over': 7, 'lazy': 8, 'dog': 9, 'by': 10, 'jove': 11, 'my': 12, 'study': 13, 'of': 14, 'lexicography': 15, 'won': 16, 'prize': 17, 'this': 18, 'is': 19, 'short': 20, 'sentence': 21}\n",
      "\n",
      "Sequence 1 in x\n",
      "  Input:  The quick brown fox jumps over the lazy dog .\n",
      "  Output: [1, 2, 4, 5, 6, 7, 1, 8, 9]\n",
      "Sequence 2 in x\n",
      "  Input:  By Jove , my quick study of lexicography won a prize .\n",
      "  Output: [10, 11, 12, 2, 13, 14, 15, 16, 3, 17]\n",
      "Sequence 3 in x\n",
      "  Input:  This is a short sentence .\n",
      "  Output: [18, 19, 3, 20, 21]\n"
     ]
    }
   ],
   "source": [
    "# Tokenization helper function\n",
    "\n",
    "def tokenize(x):\n",
    "    tokenizer = Tokenizer()\n",
    "    tokenizer.fit_on_texts(x)\n",
    "    return tokenizer.texts_to_sequences(x), tokenizer\n",
    "\n",
    "# Tokenize Example output\n",
    "text_sentences = [\n",
    "    'The quick brown fox jumps over the lazy dog .',\n",
    "    'By Jove , my quick study of lexicography won a prize .',\n",
    "    'This is a short sentence .']\n",
    "text_tokenized, text_tokenizer = tokenize(text_sentences)\n",
    "print(text_tokenizer.word_index)\n",
    "print()\n",
    "for sample_i, (sent, token_sent) in enumerate(zip(text_sentences, text_tokenized)):\n",
    "    print('Sequence {} in x'.format(sample_i + 1))\n",
    "    print('  Input:  {}'.format(sent))\n",
    "    print('  Output: {}'.format(token_sent))"
   ]
  },
  {
   "cell_type": "markdown",
   "id": "5484ec48",
   "metadata": {},
   "source": [
    "#### Padding"
   ]
  },
  {
   "cell_type": "code",
   "execution_count": 28,
   "id": "063ce84b",
   "metadata": {},
   "outputs": [
    {
     "name": "stdout",
     "output_type": "stream",
     "text": [
      "Sequence 1 in x\n",
      "  Input:  [1 2 4 5 6 7 1 8 9]\n",
      "  Output: [1 2 4 5 6 7 1 8 9 0]\n",
      "Sequence 2 in x\n",
      "  Input:  [10 11 12  2 13 14 15 16  3 17]\n",
      "  Output: [10 11 12  2 13 14 15 16  3 17]\n",
      "Sequence 3 in x\n",
      "  Input:  [18 19  3 20 21]\n",
      "  Output: [18 19  3 20 21  0  0  0  0  0]\n"
     ]
    }
   ],
   "source": [
    "# Padding helper function\n",
    "\n",
    "def pad(x, length=None):\n",
    "    if length is None:\n",
    "        length = max(len(i) for i in x)\n",
    "    padded_sequences = pad_sequences(x, maxlen = length, padding = 'post')\n",
    "    \n",
    "    return padded_sequences\n",
    "\n",
    "# Pad Tokenized output\n",
    "test_pad = pad(text_tokenized)\n",
    "for sample_i, (token_sent, pad_sent) in enumerate(zip(text_tokenized, test_pad)):\n",
    "    print('Sequence {} in x'.format(sample_i + 1))\n",
    "    print('  Input:  {}'.format(np.array(token_sent)))\n",
    "    print('  Output: {}'.format(pad_sent))"
   ]
  },
  {
   "cell_type": "markdown",
   "id": "779f1a92",
   "metadata": {},
   "source": [
    "#### Preprocessing pipeline"
   ]
  },
  {
   "cell_type": "code",
   "execution_count": 30,
   "id": "70514dae",
   "metadata": {},
   "outputs": [
    {
     "name": "stdout",
     "output_type": "stream",
     "text": [
      "Data Preprocessed\n",
      "Max English sentence length: 15\n",
      "Max French sentence length: 21\n",
      "English vocabulary size: 199\n",
      "French vocabulary size: 345\n"
     ]
    }
   ],
   "source": [
    "# Preprocessing pipeline helper function\n",
    "\n",
    "def preprocess(x, y):\n",
    "  \n",
    "    preprocess_x, x_tk = tokenize(x)\n",
    "    preprocess_y, y_tk = tokenize(y)\n",
    "    \n",
    "    preprocess_x = pad(preprocess_x)\n",
    "    preprocess_y = pad(preprocess_y)\n",
    "    \n",
    "    preprocess_y = preprocess_y.reshape(*preprocess_y.shape, 1)\n",
    "\n",
    "    return preprocess_x, preprocess_y, x_tk, y_tk\n",
    "\n",
    "preproc_english_sentences, preproc_french_sentences, english_tokenizer, french_tokenizer =\\\n",
    "    preprocess(english_sentences, french_sentences)\n",
    "    \n",
    "max_english_sequence_length = preproc_english_sentences.shape[1]\n",
    "max_french_sequence_length = preproc_french_sentences.shape[1]\n",
    "english_vocab_size = len(english_tokenizer.word_index)\n",
    "french_vocab_size = len(french_tokenizer.word_index)\n",
    "\n",
    "print('Data Preprocessed')\n",
    "print(\"Max English sentence length:\", max_english_sequence_length)\n",
    "print(\"Max French sentence length:\", max_french_sequence_length)\n",
    "print(\"English vocabulary size:\", english_vocab_size)\n",
    "print(\"French vocabulary size:\", french_vocab_size)"
   ]
  },
  {
   "cell_type": "markdown",
   "id": "984f5c99",
   "metadata": {},
   "source": [
    "## Models descriptions in increasing complexity\n",
    "\n",
    "* Model 1. Simple RNN (GRU)\n",
    "* Model 2. GRU With embedding\n",
    "* Model 3. Bidirectional GRU\n",
    "* Model 4. Encoder-Decoder GRU\n",
    "* Model 5. Final model (combination of the above)"
   ]
  },
  {
   "cell_type": "code",
   "execution_count": 37,
   "id": "f578aa74",
   "metadata": {},
   "outputs": [],
   "source": [
    "# IDs to text helper function\n",
    "\n",
    "def logits_to_text(logits, tokenizer):\n",
    "    index_to_words = {id: word for word, id in tokenizer.word_index.items()}\n",
    "    index_to_words[0] = '<PAD>'\n",
    "    return ' '.join([index_to_words[prediction] for prediction in np.argmax(logits, 1)])"
   ]
  },
  {
   "cell_type": "markdown",
   "id": "30346916",
   "metadata": {},
   "source": [
    "### Model 1. Simple RNN (GRU)"
   ]
  },
  {
   "cell_type": "code",
   "execution_count": 39,
   "id": "4e018ecf",
   "metadata": {},
   "outputs": [
    {
     "name": "stdout",
     "output_type": "stream",
     "text": [
      "Epoch 1/10\n",
      "862/862 [==============================] - 13s 8ms/step - loss: 1.8083 - accuracy: 0.5695 - val_loss: nan - val_accuracy: 0.6512\n",
      "Epoch 2/10\n",
      "862/862 [==============================] - 6s 7ms/step - loss: 1.1370 - accuracy: 0.6684 - val_loss: nan - val_accuracy: 0.6798\n",
      "Epoch 3/10\n",
      "862/862 [==============================] - 6s 7ms/step - loss: 1.0159 - accuracy: 0.6884 - val_loss: nan - val_accuracy: 0.7004\n",
      "Epoch 4/10\n",
      "862/862 [==============================] - 6s 7ms/step - loss: 0.9296 - accuracy: 0.7120 - val_loss: nan - val_accuracy: 0.7273\n",
      "Epoch 5/10\n",
      "862/862 [==============================] - 6s 7ms/step - loss: 0.8700 - accuracy: 0.7285 - val_loss: nan - val_accuracy: 0.7346\n",
      "Epoch 6/10\n",
      "862/862 [==============================] - 6s 7ms/step - loss: 0.8278 - accuracy: 0.7393 - val_loss: nan - val_accuracy: 0.7465\n",
      "Epoch 7/10\n",
      "862/862 [==============================] - 6s 7ms/step - loss: 0.7899 - accuracy: 0.7496 - val_loss: nan - val_accuracy: 0.7490\n",
      "Epoch 8/10\n",
      "862/862 [==============================] - 6s 7ms/step - loss: 0.7597 - accuracy: 0.7585 - val_loss: nan - val_accuracy: 0.7643\n",
      "Epoch 9/10\n",
      "862/862 [==============================] - 6s 7ms/step - loss: 0.7325 - accuracy: 0.7673 - val_loss: nan - val_accuracy: 0.7711\n",
      "Epoch 10/10\n",
      "862/862 [==============================] - 6s 7ms/step - loss: 0.7031 - accuracy: 0.7761 - val_loss: nan - val_accuracy: 0.7772\n",
      "new jersey est parfois calme en mois et il et il est est en <PAD> <PAD> <PAD> <PAD> <PAD> <PAD> <PAD>\n"
     ]
    }
   ],
   "source": [
    "def simple_model(input_shape, output_sequence_length, english_vocab_size, french_vocab_size):\n",
    "\n",
    "    learning_rate = 1e-3\n",
    "    \n",
    "    inputs = Input(shape = input_shape[1:])\n",
    "    x = GRU(64, return_sequences = True)(inputs)\n",
    "    x = GRU(64, return_sequences = True)(x)\n",
    "    x = Dense(128, activation = 'relu')(x)\n",
    "    outputs = Dense(french_vocab_size, activation = 'softmax')(x)\n",
    "    \n",
    "    model = Model(inputs = inputs, outputs = outputs)\n",
    "    model.compile(loss=sparse_categorical_crossentropy,\n",
    "                  optimizer=Adam(learning_rate),\n",
    "                  metrics=['accuracy'])\n",
    "    return model\n",
    "\n",
    "# Reshaping the input to work with a basic RNN\n",
    "tmp_x = pad(preproc_english_sentences, max_french_sequence_length)\n",
    "tmp_x = tmp_x.reshape((-1, preproc_french_sentences.shape[-2], 1))\n",
    "\n",
    "# Train the neural network\n",
    "simple_rnn_model = simple_model(\n",
    "    tmp_x.shape,\n",
    "    max_french_sequence_length,\n",
    "    english_vocab_size,\n",
    "    french_vocab_size)\n",
    "simple_rnn_model.fit(tmp_x, preproc_french_sentences, batch_size=128, epochs=10, validation_split=0.2)\n",
    "\n",
    "# Print prediction(s)\n",
    "print(logits_to_text(simple_rnn_model.predict(tmp_x[:1])[0], french_tokenizer))"
   ]
  },
  {
   "cell_type": "markdown",
   "id": "0c4da35a",
   "metadata": {},
   "source": [
    "### Model 2. GRU With embedding"
   ]
  },
  {
   "cell_type": "code",
   "execution_count": 42,
   "id": "40965422",
   "metadata": {},
   "outputs": [
    {
     "name": "stdout",
     "output_type": "stream",
     "text": [
      "Epoch 1/10\n",
      "862/862 [==============================] - 10s 10ms/step - loss: 1.3628 - accuracy: 0.6837 - val_loss: nan - val_accuracy: 0.8228\n",
      "Epoch 2/10\n",
      "862/862 [==============================] - 8s 9ms/step - loss: 0.5117 - accuracy: 0.8477 - val_loss: nan - val_accuracy: 0.8643\n",
      "Epoch 3/10\n",
      "862/862 [==============================] - 8s 9ms/step - loss: 0.3895 - accuracy: 0.8782 - val_loss: nan - val_accuracy: 0.8878\n",
      "Epoch 4/10\n",
      "862/862 [==============================] - 8s 9ms/step - loss: 0.3303 - accuracy: 0.8945 - val_loss: nan - val_accuracy: 0.9009\n",
      "Epoch 5/10\n",
      "862/862 [==============================] - 8s 9ms/step - loss: 0.2945 - accuracy: 0.9043 - val_loss: nan - val_accuracy: 0.9083\n",
      "Epoch 6/10\n",
      "862/862 [==============================] - 8s 9ms/step - loss: 0.2692 - accuracy: 0.9113 - val_loss: nan - val_accuracy: 0.9132\n",
      "Epoch 7/10\n",
      "862/862 [==============================] - 8s 9ms/step - loss: 0.2519 - accuracy: 0.9160 - val_loss: nan - val_accuracy: 0.9157\n",
      "Epoch 8/10\n",
      "862/862 [==============================] - 8s 9ms/step - loss: 0.2390 - accuracy: 0.9195 - val_loss: nan - val_accuracy: 0.9185\n",
      "Epoch 9/10\n",
      "862/862 [==============================] - 8s 9ms/step - loss: 0.2296 - accuracy: 0.9222 - val_loss: nan - val_accuracy: 0.9230\n",
      "Epoch 10/10\n",
      "862/862 [==============================] - 8s 9ms/step - loss: 0.2220 - accuracy: 0.9242 - val_loss: nan - val_accuracy: 0.9246\n",
      "new jersey est parfois calme en l' automne et il est neigeux en avril <PAD> <PAD> <PAD> <PAD> <PAD> <PAD> <PAD>\n"
     ]
    }
   ],
   "source": [
    "def embed_model(input_shape, output_sequence_length, english_vocab_size, french_vocab_size):\n",
    "\n",
    "    learning_rate = 1e-3\n",
    "    \n",
    "    inputs = Input(shape = input_shape[1:])\n",
    "    x = Embedding(input_dim = english_vocab_size, output_dim = 128, input_length = input_shape[1])(inputs)\n",
    "    x = GRU(64, return_sequences = True)(x)\n",
    "    x = GRU(64, return_sequences = True)(x)\n",
    "    x = Dense(128, activation = 'relu')(x)\n",
    "    outputs = Dense(french_vocab_size, activation = 'softmax')(x)\n",
    "    \n",
    "    model = Model(inputs = inputs, outputs = outputs)\n",
    "    model.compile(loss=sparse_categorical_crossentropy,\n",
    "                  optimizer=Adam(learning_rate),\n",
    "                  metrics=['accuracy'])\n",
    "    \n",
    "    return model\n",
    "\n",
    "# Inputs reshape\n",
    "tmp_x = pad(preproc_english_sentences, max_french_sequence_length)\n",
    "# tmp_x = tmp_x.reshape((-1, preproc_french_sentences.shape[-2], 1))\n",
    "\n",
    "rnn_model_with_embedding = embed_model(\n",
    "    tmp_x.shape,\n",
    "    max_french_sequence_length,\n",
    "    english_vocab_size,\n",
    "    french_vocab_size)\n",
    "rnn_model_with_embedding.fit(tmp_x, preproc_french_sentences, batch_size=128, epochs=10, validation_split=0.2)\n",
    "\n",
    "# Print predictions\n",
    "print(logits_to_text(rnn_model_with_embedding.predict(tmp_x[:1])[0], french_tokenizer))"
   ]
  },
  {
   "cell_type": "markdown",
   "id": "e28b28eb",
   "metadata": {},
   "source": [
    "### Model 3. Bidirectional GRU"
   ]
  },
  {
   "cell_type": "code",
   "execution_count": 46,
   "id": "59ca85b1",
   "metadata": {},
   "outputs": [
    {
     "name": "stdout",
     "output_type": "stream",
     "text": [
      "Epoch 1/10\n",
      "108/108 [==============================] - 6s 25ms/step - loss: 2.7943 - accuracy: 0.4811 - val_loss: nan - val_accuracy: 0.5430\n",
      "Epoch 2/10\n",
      "108/108 [==============================] - 2s 19ms/step - loss: 1.6497 - accuracy: 0.5867 - val_loss: nan - val_accuracy: 0.6174\n",
      "Epoch 3/10\n",
      "108/108 [==============================] - 2s 18ms/step - loss: 1.3291 - accuracy: 0.6311 - val_loss: nan - val_accuracy: 0.6447\n",
      "Epoch 4/10\n",
      "108/108 [==============================] - 2s 18ms/step - loss: 1.1850 - accuracy: 0.6549 - val_loss: nan - val_accuracy: 0.6631\n",
      "Epoch 5/10\n",
      "108/108 [==============================] - 2s 19ms/step - loss: 1.0812 - accuracy: 0.6747 - val_loss: nan - val_accuracy: 0.6831\n",
      "Epoch 6/10\n",
      "108/108 [==============================] - 2s 18ms/step - loss: 1.0064 - accuracy: 0.6903 - val_loss: nan - val_accuracy: 0.6943\n",
      "Epoch 7/10\n",
      "108/108 [==============================] - 2s 18ms/step - loss: 0.9455 - accuracy: 0.7044 - val_loss: nan - val_accuracy: 0.7100\n",
      "Epoch 8/10\n",
      "108/108 [==============================] - 2s 19ms/step - loss: 0.9005 - accuracy: 0.7150 - val_loss: nan - val_accuracy: 0.7199\n",
      "Epoch 9/10\n",
      "108/108 [==============================] - 2s 18ms/step - loss: 0.8665 - accuracy: 0.7230 - val_loss: nan - val_accuracy: 0.7264\n",
      "Epoch 10/10\n",
      "108/108 [==============================] - 2s 18ms/step - loss: 0.8378 - accuracy: 0.7296 - val_loss: nan - val_accuracy: 0.7360\n",
      "new jersey est parfois calme en mois de il est est en avril <PAD> <PAD> <PAD> <PAD> <PAD> <PAD> <PAD> <PAD>\n"
     ]
    }
   ],
   "source": [
    "def bd_model(input_shape, output_sequence_length, english_vocab_size, french_vocab_size):\n",
    "\n",
    "    learning_rate = 1e-3\n",
    "    \n",
    "    inputs = Input(shape = input_shape[1:])\n",
    "    x = Bidirectional(GRU(64, return_sequences = True))(inputs)\n",
    "    x = Bidirectional(GRU(64, return_sequences = True))(x)\n",
    "    x = Dense(128, activation = 'relu')(x)\n",
    "    outputs = Dense(french_vocab_size, activation = 'softmax')(x)\n",
    "    \n",
    "    model = Model(inputs = inputs, outputs = outputs)\n",
    "    model.compile(loss=sparse_categorical_crossentropy,\n",
    "                  optimizer=Adam(learning_rate),\n",
    "                  metrics=['accuracy'])\n",
    "    \n",
    "    return model\n",
    "\n",
    "# Inputs reshape\n",
    "tmp_x = pad(preproc_english_sentences, max_french_sequence_length)\n",
    "tmp_x = tmp_x.reshape((-1, preproc_french_sentences.shape[-2], 1))\n",
    "\n",
    "bidirectional_rnn_model = bd_model(\n",
    "    tmp_x.shape,\n",
    "    max_french_sequence_length,\n",
    "    english_vocab_size,\n",
    "    french_vocab_size)\n",
    "\n",
    "# Train the model\n",
    "bidirectional_rnn_model.fit(tmp_x, preproc_french_sentences, batch_size=128, epochs=10, validation_split=0.2)\n",
    "\n",
    "# Print predictions\n",
    "print(logits_to_text(bidirectional_rnn_model.predict(tmp_x[:1])[0], french_tokenizer))"
   ]
  },
  {
   "cell_type": "markdown",
   "id": "f1059ea3",
   "metadata": {},
   "source": [
    "### Model 4. Encoder-Decoder GRU"
   ]
  },
  {
   "cell_type": "code",
   "execution_count": 50,
   "id": "1efc509e",
   "metadata": {},
   "outputs": [
    {
     "name": "stdout",
     "output_type": "stream",
     "text": [
      "Epoch 1/50\n",
      "108/108 [==============================] - 3s 15ms/step - loss: 3.4152 - accuracy: 0.4253 - val_loss: nan - val_accuracy: 0.4565\n",
      "Epoch 2/50\n",
      "108/108 [==============================] - 1s 11ms/step - loss: 2.4825 - accuracy: 0.4782 - val_loss: nan - val_accuracy: 0.4947\n",
      "Epoch 3/50\n",
      "108/108 [==============================] - 1s 12ms/step - loss: 2.2421 - accuracy: 0.5064 - val_loss: nan - val_accuracy: 0.5198\n",
      "Epoch 4/50\n",
      "108/108 [==============================] - 1s 11ms/step - loss: 2.1002 - accuracy: 0.5273 - val_loss: nan - val_accuracy: 0.5345\n",
      "Epoch 5/50\n",
      "108/108 [==============================] - 1s 12ms/step - loss: 1.9470 - accuracy: 0.5429 - val_loss: nan - val_accuracy: 0.5488\n",
      "Epoch 6/50\n",
      "108/108 [==============================] - 1s 12ms/step - loss: 1.7611 - accuracy: 0.5602 - val_loss: nan - val_accuracy: 0.5644\n",
      "Epoch 7/50\n",
      "108/108 [==============================] - 1s 12ms/step - loss: 1.6818 - accuracy: 0.5668 - val_loss: nan - val_accuracy: 0.5709\n",
      "Epoch 8/50\n",
      "108/108 [==============================] - 1s 12ms/step - loss: 1.6272 - accuracy: 0.5744 - val_loss: nan - val_accuracy: 0.5820\n",
      "Epoch 9/50\n",
      "108/108 [==============================] - 1s 12ms/step - loss: 1.5854 - accuracy: 0.5809 - val_loss: nan - val_accuracy: 0.5855\n",
      "Epoch 10/50\n",
      "108/108 [==============================] - 1s 12ms/step - loss: 1.5496 - accuracy: 0.5854 - val_loss: nan - val_accuracy: 0.5863\n",
      "Epoch 11/50\n",
      "108/108 [==============================] - 1s 12ms/step - loss: 1.5141 - accuracy: 0.5913 - val_loss: nan - val_accuracy: 0.5957\n",
      "Epoch 12/50\n",
      "108/108 [==============================] - 1s 13ms/step - loss: 1.4757 - accuracy: 0.5996 - val_loss: nan - val_accuracy: 0.6062\n",
      "Epoch 13/50\n",
      "108/108 [==============================] - 1s 13ms/step - loss: 1.4402 - accuracy: 0.6082 - val_loss: nan - val_accuracy: 0.6101\n",
      "Epoch 14/50\n",
      "108/108 [==============================] - 1s 11ms/step - loss: 1.4101 - accuracy: 0.6139 - val_loss: nan - val_accuracy: 0.6172\n",
      "Epoch 15/50\n",
      "108/108 [==============================] - 1s 12ms/step - loss: 1.3861 - accuracy: 0.6182 - val_loss: nan - val_accuracy: 0.6192\n",
      "Epoch 16/50\n",
      "108/108 [==============================] - 1s 12ms/step - loss: 1.3632 - accuracy: 0.6219 - val_loss: nan - val_accuracy: 0.6241\n",
      "Epoch 17/50\n",
      "108/108 [==============================] - 1s 12ms/step - loss: 1.3458 - accuracy: 0.6245 - val_loss: nan - val_accuracy: 0.6250\n",
      "Epoch 18/50\n",
      "108/108 [==============================] - 1s 12ms/step - loss: 1.3300 - accuracy: 0.6271 - val_loss: nan - val_accuracy: 0.6286\n",
      "Epoch 19/50\n",
      "108/108 [==============================] - 1s 12ms/step - loss: 1.3183 - accuracy: 0.6300 - val_loss: nan - val_accuracy: 0.6335\n",
      "Epoch 20/50\n",
      "108/108 [==============================] - 1s 12ms/step - loss: 1.3051 - accuracy: 0.6330 - val_loss: nan - val_accuracy: 0.6328\n",
      "Epoch 21/50\n",
      "108/108 [==============================] - 1s 12ms/step - loss: 1.2939 - accuracy: 0.6352 - val_loss: nan - val_accuracy: 0.6366\n",
      "Epoch 22/50\n",
      "108/108 [==============================] - 1s 12ms/step - loss: 1.2822 - accuracy: 0.6366 - val_loss: nan - val_accuracy: 0.6367\n",
      "Epoch 23/50\n",
      "108/108 [==============================] - 1s 12ms/step - loss: 1.2714 - accuracy: 0.6381 - val_loss: nan - val_accuracy: 0.6394\n",
      "Epoch 24/50\n",
      "108/108 [==============================] - 1s 12ms/step - loss: 1.2619 - accuracy: 0.6391 - val_loss: nan - val_accuracy: 0.6394\n",
      "Epoch 25/50\n",
      "108/108 [==============================] - 1s 12ms/step - loss: 1.2530 - accuracy: 0.6400 - val_loss: nan - val_accuracy: 0.6397\n",
      "Epoch 26/50\n",
      "108/108 [==============================] - 1s 12ms/step - loss: 1.2431 - accuracy: 0.6413 - val_loss: nan - val_accuracy: 0.6425\n",
      "Epoch 27/50\n",
      "108/108 [==============================] - 1s 11ms/step - loss: 1.2356 - accuracy: 0.6424 - val_loss: nan - val_accuracy: 0.6440\n",
      "Epoch 28/50\n",
      "108/108 [==============================] - 1s 12ms/step - loss: 1.2256 - accuracy: 0.6441 - val_loss: nan - val_accuracy: 0.6439\n",
      "Epoch 29/50\n",
      "108/108 [==============================] - 1s 12ms/step - loss: 1.2228 - accuracy: 0.6444 - val_loss: nan - val_accuracy: 0.6470\n",
      "Epoch 30/50\n",
      "108/108 [==============================] - 2s 23ms/step - loss: 1.2100 - accuracy: 0.6469 - val_loss: nan - val_accuracy: 0.6482\n",
      "Epoch 31/50\n",
      "108/108 [==============================] - 1s 11ms/step - loss: 1.2099 - accuracy: 0.6466 - val_loss: nan - val_accuracy: 0.6511\n",
      "Epoch 32/50\n",
      "108/108 [==============================] - 1s 12ms/step - loss: 1.1921 - accuracy: 0.6504 - val_loss: nan - val_accuracy: 0.6493\n",
      "Epoch 33/50\n",
      "108/108 [==============================] - 1s 13ms/step - loss: 1.2209 - accuracy: 0.6439 - val_loss: nan - val_accuracy: 0.6450\n",
      "Epoch 34/50\n",
      "108/108 [==============================] - 1s 14ms/step - loss: 1.1865 - accuracy: 0.6504 - val_loss: nan - val_accuracy: 0.6548\n",
      "Epoch 35/50\n",
      "108/108 [==============================] - 4s 40ms/step - loss: 1.1672 - accuracy: 0.6560 - val_loss: nan - val_accuracy: 0.6587\n",
      "Epoch 36/50\n",
      "108/108 [==============================] - 1s 11ms/step - loss: 1.1559 - accuracy: 0.6595 - val_loss: nan - val_accuracy: 0.6558\n",
      "Epoch 37/50\n",
      "108/108 [==============================] - 1s 13ms/step - loss: 1.1441 - accuracy: 0.6633 - val_loss: nan - val_accuracy: 0.6652\n",
      "Epoch 38/50\n",
      "108/108 [==============================] - 8s 76ms/step - loss: 1.1451 - accuracy: 0.6641 - val_loss: nan - val_accuracy: 0.6694\n",
      "Epoch 39/50\n",
      "108/108 [==============================] - 6s 55ms/step - loss: 1.1225 - accuracy: 0.6703 - val_loss: nan - val_accuracy: 0.6716\n",
      "Epoch 40/50\n",
      "108/108 [==============================] - 3s 24ms/step - loss: 1.1380 - accuracy: 0.6662 - val_loss: nan - val_accuracy: 0.6741\n",
      "Epoch 41/50\n",
      "108/108 [==============================] - 1s 11ms/step - loss: 1.1115 - accuracy: 0.6731 - val_loss: nan - val_accuracy: 0.6740\n",
      "Epoch 42/50\n",
      "108/108 [==============================] - 1s 11ms/step - loss: 1.1423 - accuracy: 0.6653 - val_loss: nan - val_accuracy: 0.6718\n",
      "Epoch 43/50\n",
      "108/108 [==============================] - 2s 16ms/step - loss: 1.1107 - accuracy: 0.6729 - val_loss: nan - val_accuracy: 0.6766\n",
      "Epoch 44/50\n",
      "108/108 [==============================] - 1s 11ms/step - loss: 1.1001 - accuracy: 0.6753 - val_loss: nan - val_accuracy: 0.6773\n",
      "Epoch 45/50\n",
      "108/108 [==============================] - 1s 12ms/step - loss: 1.0945 - accuracy: 0.6764 - val_loss: nan - val_accuracy: 0.6778\n",
      "Epoch 46/50\n",
      "108/108 [==============================] - 1s 12ms/step - loss: 1.1833 - accuracy: 0.6528 - val_loss: nan - val_accuracy: 0.6559\n",
      "Epoch 47/50\n",
      "108/108 [==============================] - 1s 13ms/step - loss: 1.1250 - accuracy: 0.6650 - val_loss: nan - val_accuracy: 0.6696\n",
      "Epoch 48/50\n",
      "108/108 [==============================] - 3s 32ms/step - loss: 1.1077 - accuracy: 0.6710 - val_loss: nan - val_accuracy: 0.6699\n",
      "Epoch 49/50\n",
      "108/108 [==============================] - 1s 12ms/step - loss: 1.0964 - accuracy: 0.6742 - val_loss: nan - val_accuracy: 0.6766\n",
      "Epoch 50/50\n",
      "108/108 [==============================] - 1s 12ms/step - loss: 1.0863 - accuracy: 0.6776 - val_loss: nan - val_accuracy: 0.6786\n",
      "WARNING:tensorflow:5 out of the last 5 calls to <function Model.make_predict_function.<locals>.predict_function at 0x000002C56747CF70> triggered tf.function retracing. Tracing is expensive and the excessive number of tracings could be due to (1) creating @tf.function repeatedly in a loop, (2) passing tensors with different shapes, (3) passing Python objects instead of tensors. For (1), please define your @tf.function outside of the loop. For (2), @tf.function has experimental_relax_shapes=True option that relaxes argument shapes that can avoid unnecessary retracing. For (3), please refer to https://www.tensorflow.org/guide/function#controlling_retracing and https://www.tensorflow.org/api_docs/python/tf/function for  more details.\n",
      "new jersey est parfois agrã©able en mois mais il est est en en <PAD> <PAD> <PAD> <PAD> <PAD> <PAD> <PAD> <PAD>\n"
     ]
    }
   ],
   "source": [
    "def encdec_model(input_shape, output_sequence_length, english_vocab_size, french_vocab_size):\n",
    "    learning_rate = 1e-3\n",
    "    \n",
    "    encoder_inputs = Input(shape = input_shape[1:])\n",
    "    gru_layer1 = GRU(64, return_sequences = False, return_state = True)\n",
    "    gru_layer1_outputs, state_h = gru_layer1(encoder_inputs)\n",
    "\n",
    "    repeater = RepeatVector(output_sequence_length)\n",
    "    decoder_inputs = repeater(gru_layer1_outputs)\n",
    "    gru_layer3 = GRU(64, return_sequences = True)\n",
    "    gru_layer3_outputs = gru_layer3(decoder_inputs, initial_state = state_h)\n",
    "    dense_layer_last = Dense(french_vocab_size, activation = 'softmax')\n",
    "    dense_layer_last_outputs = dense_layer_last(gru_layer3_outputs)\n",
    "\n",
    "    model = Model(inputs = encoder_inputs, outputs = dense_layer_last_outputs)\n",
    "    model.compile(loss=sparse_categorical_crossentropy,\n",
    "                  optimizer=Adam(learning_rate),\n",
    "                  metrics=['accuracy'])\n",
    "    \n",
    "    return model\n",
    "\n",
    "# Inputs reshape\n",
    "tmp_x = pad(preproc_english_sentences, max_french_sequence_length)\n",
    "tmp_x = tmp_x.reshape((-1, preproc_french_sentences.shape[-2], 1))\n",
    "\n",
    "encdec_rnn_model = encdec_model(\n",
    "    tmp_x.shape,\n",
    "    max_french_sequence_length,\n",
    "    english_vocab_size,\n",
    "    french_vocab_size)\n",
    "\n",
    "# Train the model\n",
    "encdec_rnn_model.fit(tmp_x, preproc_french_sentences, batch_size=128, epochs=10, validation_split=0.2)\n",
    "\n",
    "# Print model predictions\n",
    "print(logits_to_text(encdec_rnn_model.predict(tmp_x[:1])[0], french_tokenizer))"
   ]
  },
  {
   "cell_type": "markdown",
   "id": "a4f9b77e",
   "metadata": {},
   "source": [
    "### Model 5. Final model (combination of the above)"
   ]
  },
  {
   "cell_type": "code",
   "execution_count": null,
   "id": "feaab55e",
   "metadata": {},
   "outputs": [
    {
     "name": "stdout",
     "output_type": "stream",
     "text": [
      "Epoch 1/10\n",
      "862/862 [==============================] - 38s 37ms/step - loss: 1.3665 - accuracy: 0.6499 - val_loss: nan - val_accuracy: 0.7388\n",
      "Epoch 2/10\n",
      "862/862 [==============================] - 30s 35ms/step - loss: 0.7788 - accuracy: 0.7632 - val_loss: nan - val_accuracy: 0.7984\n",
      "Epoch 3/10\n",
      "862/862 [==============================] - 31s 36ms/step - loss: 0.5246 - accuracy: 0.8378 - val_loss: nan - val_accuracy: 0.8714\n",
      "Epoch 4/10\n",
      "862/862 [==============================] - 31s 36ms/step - loss: 0.3173 - accuracy: 0.9033 - val_loss: nan - val_accuracy: 0.9304\n",
      "Epoch 5/10\n",
      "862/862 [==============================] - 32s 37ms/step - loss: 0.1979 - accuracy: 0.9420 - val_loss: nan - val_accuracy: 0.9520\n",
      "Epoch 6/10\n",
      "862/862 [==============================] - 34s 40ms/step - loss: 0.1487 - accuracy: 0.9550 - val_loss: nan - val_accuracy: 0.9574\n",
      "Epoch 7/10\n",
      "215/862 [======>.......................] - ETA: 22s - loss: 0.1384 - accuracy: 0.9581"
     ]
    }
   ],
   "source": [
    "def model_final(input_shape, output_sequence_length, english_vocab_size, french_vocab_size):\n",
    "\n",
    "    learning_rate = 1e-3\n",
    "    \n",
    "    encoder_inputs = Input(shape = input_shape[1:])\n",
    "    x = Embedding(input_dim = english_vocab_size, output_dim = 256)(encoder_inputs)\n",
    "    x = Bidirectional(GRU(128, return_sequences = True))(x)\n",
    "    encoder_outputs, h1, h2 = Bidirectional(GRU(128, return_sequences = False, return_state = True))(x)\n",
    "    \n",
    "    repeater = RepeatVector(output_sequence_length)\n",
    "    decoder_inputs = repeater(encoder_outputs)\n",
    "    x = Bidirectional(GRU(128, return_sequences = True))(decoder_inputs, initial_state = [h1,h2])\n",
    "    x = Bidirectional(GRU(128, return_sequences = True))(x)\n",
    "    x = Dense(256, activation = 'relu')(x)\n",
    "    outputs = Dense(french_vocab_size, activation = 'softmax')(x)\n",
    "    \n",
    "    model = Model(inputs = encoder_inputs, outputs = outputs)\n",
    "    model.compile(loss=sparse_categorical_crossentropy,\n",
    "                  optimizer=Adam(learning_rate),\n",
    "                  metrics=['accuracy'])\n",
    "    \n",
    "    return model\n",
    "\n",
    "# Inputs reshape\n",
    "tmp_x = pad(preproc_english_sentences, max_french_sequence_length)\n",
    "\n",
    "custom_model = model_final(\n",
    "    tmp_x.shape,\n",
    "    max_french_sequence_length,\n",
    "    english_vocab_size,\n",
    "    french_vocab_size)\n",
    "\n",
    "# Train the model\n",
    "custom_model.fit(tmp_x, preproc_french_sentences, batch_size=128, epochs=10, validation_split=0.2)"
   ]
  },
  {
   "cell_type": "code",
   "execution_count": null,
   "id": "1f6a2246",
   "metadata": {},
   "outputs": [],
   "source": [
    "!git add .\n",
    "!git commit -m \"Model 5. Final model (combination of the above)\""
   ]
  },
  {
   "cell_type": "markdown",
   "id": "d36a0931",
   "metadata": {},
   "source": [
    "## Final predictions with examples"
   ]
  },
  {
   "cell_type": "code",
   "execution_count": null,
   "id": "67b82b88",
   "metadata": {},
   "outputs": [],
   "source": [
    "# Final predictions function\n",
    "\n",
    "def final_predictions(x, y, x_tk, y_tk):\n",
    "\n",
    "    model = model_final(x.shape, len(y[0]), english_vocab_size, french_vocab_size)\n",
    "    model.fit(x, y, batch_size=128, epochs=10, validation_split=0.2) \n",
    "\n",
    "    y_id_to_word = {value: key for key, value in y_tk.word_index.items()}\n",
    "    y_id_to_word[0] = '<PAD>'\n",
    "\n",
    "    sentence = 'he saw a old yellow truck'\n",
    "    sentence = [x_tk.word_index[word] for word in sentence.split()]\n",
    "    sentence = pad_sequences([sentence], maxlen=x.shape[-1], padding='post')\n",
    "    sentences = np.array([sentence[0], x[0]])\n",
    "    predictions = model.predict(sentences, len(sentences))\n",
    "\n",
    "    print('Sample 1:')\n",
    "    print(' '.join([y_id_to_word[np.argmax(x)] for x in predictions[0]]))\n",
    "    print('Il a vu un vieux camion jaune')\n",
    "    print('Sample 2:')\n",
    "    print(' '.join([y_id_to_word[np.argmax(x)] for x in predictions[1]]))\n",
    "    print(' '.join([y_id_to_word[np.max(x)] for x in y[0]]))\n",
    "\n",
    "final_predictions(preproc_english_sentences, preproc_french_sentences, english_tokenizer, french_tokenizer)"
   ]
  },
  {
   "cell_type": "code",
   "execution_count": null,
   "id": "f0704aab",
   "metadata": {},
   "outputs": [],
   "source": [
    "!git add .\n",
    "!git commit -m \"final predictions and example sentences\""
   ]
  },
  {
   "cell_type": "code",
   "execution_count": null,
   "id": "1d5086b7",
   "metadata": {},
   "outputs": [],
   "source": []
  }
 ],
 "metadata": {
  "kernelspec": {
   "display_name": "Python 3 (ipykernel)",
   "language": "python",
   "name": "python3"
  },
  "language_info": {
   "codemirror_mode": {
    "name": "ipython",
    "version": 3
   },
   "file_extension": ".py",
   "mimetype": "text/x-python",
   "name": "python",
   "nbconvert_exporter": "python",
   "pygments_lexer": "ipython3",
   "version": "3.9.7"
  }
 },
 "nbformat": 4,
 "nbformat_minor": 5
}
