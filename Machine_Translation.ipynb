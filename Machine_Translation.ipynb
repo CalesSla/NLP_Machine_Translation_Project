{
 "cells": [
  {
   "cell_type": "markdown",
   "id": "0119c1a2",
   "metadata": {},
   "source": [
    "# Machine Translation Project"
   ]
  },
  {
   "cell_type": "markdown",
   "id": "192ef03e",
   "metadata": {},
   "source": [
    "### Step 1. Import dependencies and script setup"
   ]
  },
  {
   "cell_type": "code",
   "execution_count": 13,
   "id": "c88f25dd",
   "metadata": {},
   "outputs": [
    {
     "name": "stdout",
     "output_type": "stream",
     "text": [
      "The autoreload extension is already loaded. To reload it, use:\n",
      "  %reload_ext autoreload\n"
     ]
    }
   ],
   "source": [
    "%load_ext autoreload\n",
    "%autoreload 1\n",
    "\n",
    "import os\n",
    "import collections\n",
    "import numpy as np\n",
    "from keras.preprocessing.text import Tokenizer\n",
    "from keras.preprocessing.sequence import pad_sequences\n",
    "from keras.models import Model\n",
    "from keras.layers import GRU, Input, Dense, TimeDistributed, Activation, RepeatVector, Bidirectional, Concatenate, LSTM\n",
    "from keras.layers.embeddings import Embedding\n",
    "from tensorflow.keras.optimizers import Adam\n",
    "from keras.losses import sparse_categorical_crossentropy\n",
    "from tensorflow.python.client import device_lib\n",
    "\n",
    "# Data loader\n",
    "def load_data(path):\n",
    "    input_file = os.path.join(path)\n",
    "    with open(input_file, \"r\") as f:\n",
    "        data = f.read()\n",
    "    return data.split('\\n')"
   ]
  },
  {
   "cell_type": "code",
   "execution_count": 15,
   "id": "38667a33",
   "metadata": {},
   "outputs": [
    {
     "name": "stdout",
     "output_type": "stream",
     "text": [
      "[name: \"/device:CPU:0\"\n",
      "device_type: \"CPU\"\n",
      "memory_limit: 268435456\n",
      "locality {\n",
      "}\n",
      "incarnation: 8435159831571808138\n",
      "xla_global_id: -1\n",
      ", name: \"/device:GPU:0\"\n",
      "device_type: \"GPU\"\n",
      "memory_limit: 5376753664\n",
      "locality {\n",
      "  bus_id: 1\n",
      "  links {\n",
      "  }\n",
      "}\n",
      "incarnation: 11986777501007342572\n",
      "physical_device_desc: \"device: 0, name: NVIDIA GeForce RTX 3070, pci bus id: 0000:01:00.0, compute capability: 8.6\"\n",
      "xla_global_id: 416903419\n",
      "]\n"
     ]
    }
   ],
   "source": [
    "# CPU/GPU device check\n",
    "print(device_lib.list_local_devices())"
   ]
  },
  {
   "cell_type": "markdown",
   "id": "96cddf68",
   "metadata": {},
   "source": [
    "### Step 2. Data load and exploration"
   ]
  },
  {
   "cell_type": "code",
   "execution_count": 18,
   "id": "7decf443",
   "metadata": {},
   "outputs": [],
   "source": [
    "# English sentences\n",
    "english_sentences = load_data('data/small_vocab_en')\n",
    "# French sentences\n",
    "french_sentences = load_data('data/small_vocab_fr')"
   ]
  },
  {
   "cell_type": "code",
   "execution_count": 21,
   "id": "6027e144",
   "metadata": {},
   "outputs": [
    {
     "name": "stdout",
     "output_type": "stream",
     "text": [
      "English sentence 1:  new jersey is sometimes quiet during autumn , and it is snowy in april .\n",
      "French translation 1:  new jersey est parfois calme pendant l' automne , et il est neigeux en avril .\n",
      "English sentence 2:  the united states is usually chilly during july , and it is usually freezing in november .\n",
      "French translation 2:  les Ã©tats-unis est gÃ©nÃ©ralement froid en juillet , et il gÃ¨le habituellement en novembre .\n"
     ]
    }
   ],
   "source": [
    "# Sentence examples\n",
    "for sample_i in range(2):\n",
    "    print('English sentence {}:  {}'.format(sample_i + 1, english_sentences[sample_i]))\n",
    "    print('French translation {}:  {}'.format(sample_i + 1, french_sentences[sample_i]))"
   ]
  },
  {
   "cell_type": "code",
   "execution_count": 23,
   "id": "f3be60d9",
   "metadata": {},
   "outputs": [
    {
     "name": "stdout",
     "output_type": "stream",
     "text": [
      "1823250 English words.\n",
      "227 unique English words.\n",
      "10 Most common words in the English dataset:\n",
      "\"is\" \",\" \".\" \"in\" \"it\" \"during\" \"the\" \"but\" \"and\" \"sometimes\"\n",
      "\n",
      "1961295 French words.\n",
      "355 unique French words.\n",
      "10 Most common words in the French dataset:\n",
      "\"est\" \".\" \",\" \"en\" \"il\" \"les\" \"mais\" \"et\" \"la\" \"parfois\"\n"
     ]
    }
   ],
   "source": [
    "# Data exploration and main metrics\n",
    "\n",
    "english_words_counter = collections.Counter([word for sentence in english_sentences for word in sentence.split()])\n",
    "french_words_counter = collections.Counter([word for sentence in french_sentences for word in sentence.split()])\n",
    "\n",
    "print('{} English words.'.format(len([word for sentence in english_sentences for word in sentence.split()])))\n",
    "print('{} unique English words.'.format(len(english_words_counter)))\n",
    "print('10 Most common words in the English dataset:')\n",
    "print('\"' + '\" \"'.join(list(zip(*english_words_counter.most_common(10)))[0]) + '\"')\n",
    "print()\n",
    "print('{} French words.'.format(len([word for sentence in french_sentences for word in sentence.split()])))\n",
    "print('{} unique French words.'.format(len(french_words_counter)))\n",
    "print('10 Most common words in the French dataset:')\n",
    "print('\"' + '\" \"'.join(list(zip(*french_words_counter.most_common(10)))[0]) + '\"')"
   ]
  },
  {
   "cell_type": "markdown",
   "id": "0fc99a85",
   "metadata": {},
   "source": [
    "### Step 3. Data preprocessing"
   ]
  },
  {
   "cell_type": "markdown",
   "id": "3624f9dc",
   "metadata": {},
   "source": [
    "#### Tokenization"
   ]
  },
  {
   "cell_type": "code",
   "execution_count": 26,
   "id": "467fc003",
   "metadata": {},
   "outputs": [
    {
     "name": "stdout",
     "output_type": "stream",
     "text": [
      "{'the': 1, 'quick': 2, 'a': 3, 'brown': 4, 'fox': 5, 'jumps': 6, 'over': 7, 'lazy': 8, 'dog': 9, 'by': 10, 'jove': 11, 'my': 12, 'study': 13, 'of': 14, 'lexicography': 15, 'won': 16, 'prize': 17, 'this': 18, 'is': 19, 'short': 20, 'sentence': 21}\n",
      "\n",
      "Sequence 1 in x\n",
      "  Input:  The quick brown fox jumps over the lazy dog .\n",
      "  Output: [1, 2, 4, 5, 6, 7, 1, 8, 9]\n",
      "Sequence 2 in x\n",
      "  Input:  By Jove , my quick study of lexicography won a prize .\n",
      "  Output: [10, 11, 12, 2, 13, 14, 15, 16, 3, 17]\n",
      "Sequence 3 in x\n",
      "  Input:  This is a short sentence .\n",
      "  Output: [18, 19, 3, 20, 21]\n"
     ]
    }
   ],
   "source": [
    "# Tokenization helper function\n",
    "\n",
    "def tokenize(x):\n",
    "    tokenizer = Tokenizer()\n",
    "    tokenizer.fit_on_texts(x)\n",
    "    return tokenizer.texts_to_sequences(x), tokenizer\n",
    "\n",
    "# Tokenize Example output\n",
    "text_sentences = [\n",
    "    'The quick brown fox jumps over the lazy dog .',\n",
    "    'By Jove , my quick study of lexicography won a prize .',\n",
    "    'This is a short sentence .']\n",
    "text_tokenized, text_tokenizer = tokenize(text_sentences)\n",
    "print(text_tokenizer.word_index)\n",
    "print()\n",
    "for sample_i, (sent, token_sent) in enumerate(zip(text_sentences, text_tokenized)):\n",
    "    print('Sequence {} in x'.format(sample_i + 1))\n",
    "    print('  Input:  {}'.format(sent))\n",
    "    print('  Output: {}'.format(token_sent))"
   ]
  },
  {
   "cell_type": "markdown",
   "id": "c0d07b0e",
   "metadata": {},
   "source": [
    "#### Padding"
   ]
  },
  {
   "cell_type": "code",
   "execution_count": 28,
   "id": "4cfb9a2b",
   "metadata": {},
   "outputs": [
    {
     "name": "stdout",
     "output_type": "stream",
     "text": [
      "Sequence 1 in x\n",
      "  Input:  [1 2 4 5 6 7 1 8 9]\n",
      "  Output: [1 2 4 5 6 7 1 8 9 0]\n",
      "Sequence 2 in x\n",
      "  Input:  [10 11 12  2 13 14 15 16  3 17]\n",
      "  Output: [10 11 12  2 13 14 15 16  3 17]\n",
      "Sequence 3 in x\n",
      "  Input:  [18 19  3 20 21]\n",
      "  Output: [18 19  3 20 21  0  0  0  0  0]\n"
     ]
    }
   ],
   "source": [
    "# Padding helper function\n",
    "\n",
    "def pad(x, length=None):\n",
    "    if length is None:\n",
    "        length = max(len(i) for i in x)\n",
    "    padded_sequences = pad_sequences(x, maxlen = length, padding = 'post')\n",
    "    \n",
    "    return padded_sequences\n",
    "\n",
    "# Pad Tokenized output\n",
    "test_pad = pad(text_tokenized)\n",
    "for sample_i, (token_sent, pad_sent) in enumerate(zip(text_tokenized, test_pad)):\n",
    "    print('Sequence {} in x'.format(sample_i + 1))\n",
    "    print('  Input:  {}'.format(np.array(token_sent)))\n",
    "    print('  Output: {}'.format(pad_sent))"
   ]
  },
  {
   "cell_type": "markdown",
   "id": "4295fed5",
   "metadata": {},
   "source": [
    "#### Preprocessing pipeline"
   ]
  },
  {
   "cell_type": "code",
   "execution_count": 30,
   "id": "e8854ea0",
   "metadata": {},
   "outputs": [
    {
     "name": "stdout",
     "output_type": "stream",
     "text": [
      "Data Preprocessed\n",
      "Max English sentence length: 15\n",
      "Max French sentence length: 21\n",
      "English vocabulary size: 199\n",
      "French vocabulary size: 345\n"
     ]
    }
   ],
   "source": [
    "# Preprocessing pipeline helper function\n",
    "\n",
    "def preprocess(x, y):\n",
    "  \n",
    "    preprocess_x, x_tk = tokenize(x)\n",
    "    preprocess_y, y_tk = tokenize(y)\n",
    "    \n",
    "    preprocess_x = pad(preprocess_x)\n",
    "    preprocess_y = pad(preprocess_y)\n",
    "    \n",
    "    preprocess_y = preprocess_y.reshape(*preprocess_y.shape, 1)\n",
    "\n",
    "    return preprocess_x, preprocess_y, x_tk, y_tk\n",
    "\n",
    "preproc_english_sentences, preproc_french_sentences, english_tokenizer, french_tokenizer =\\\n",
    "    preprocess(english_sentences, french_sentences)\n",
    "    \n",
    "max_english_sequence_length = preproc_english_sentences.shape[1]\n",
    "max_french_sequence_length = preproc_french_sentences.shape[1]\n",
    "english_vocab_size = len(english_tokenizer.word_index)\n",
    "french_vocab_size = len(french_tokenizer.word_index)\n",
    "\n",
    "print('Data Preprocessed')\n",
    "print(\"Max English sentence length:\", max_english_sequence_length)\n",
    "print(\"Max French sentence length:\", max_french_sequence_length)\n",
    "print(\"English vocabulary size:\", english_vocab_size)\n",
    "print(\"French vocabulary size:\", french_vocab_size)"
   ]
  },
  {
   "cell_type": "markdown",
   "id": "7569c924",
   "metadata": {},
   "source": [
    "## Models descriptions in increasing complexity\n",
    "\n",
    "* Model 1. Simple RNN (GRU)\n",
    "* Model 2. GRU With embedding\n",
    "* Model 3. Bidirectional GRU\n",
    "* Model 4. Encoder-Decoder GRU\n",
    "* Model 5. Final model (combination of the above)"
   ]
  },
  {
   "cell_type": "code",
   "execution_count": 37,
   "id": "e11d82e1",
   "metadata": {},
   "outputs": [],
   "source": [
    "# IDs to text helper function\n",
    "\n",
    "def logits_to_text(logits, tokenizer):\n",
    "    index_to_words = {id: word for word, id in tokenizer.word_index.items()}\n",
    "    index_to_words[0] = '<PAD>'\n",
    "    return ' '.join([index_to_words[prediction] for prediction in np.argmax(logits, 1)])"
   ]
  },
  {
   "cell_type": "markdown",
   "id": "b869d628",
   "metadata": {},
   "source": [
    "### Model 1. Simple RNN (GRU)"
   ]
  },
  {
   "cell_type": "code",
   "execution_count": 39,
   "id": "8d8b8cba",
   "metadata": {},
   "outputs": [
    {
     "name": "stdout",
     "output_type": "stream",
     "text": [
      "Epoch 1/10\n",
      "862/862 [==============================] - 13s 8ms/step - loss: 1.8083 - accuracy: 0.5695 - val_loss: nan - val_accuracy: 0.6512\n",
      "Epoch 2/10\n",
      "862/862 [==============================] - 6s 7ms/step - loss: 1.1370 - accuracy: 0.6684 - val_loss: nan - val_accuracy: 0.6798\n",
      "Epoch 3/10\n",
      "862/862 [==============================] - 6s 7ms/step - loss: 1.0159 - accuracy: 0.6884 - val_loss: nan - val_accuracy: 0.7004\n",
      "Epoch 4/10\n",
      "862/862 [==============================] - 6s 7ms/step - loss: 0.9296 - accuracy: 0.7120 - val_loss: nan - val_accuracy: 0.7273\n",
      "Epoch 5/10\n",
      "862/862 [==============================] - 6s 7ms/step - loss: 0.8700 - accuracy: 0.7285 - val_loss: nan - val_accuracy: 0.7346\n",
      "Epoch 6/10\n",
      "862/862 [==============================] - 6s 7ms/step - loss: 0.8278 - accuracy: 0.7393 - val_loss: nan - val_accuracy: 0.7465\n",
      "Epoch 7/10\n",
      "862/862 [==============================] - 6s 7ms/step - loss: 0.7899 - accuracy: 0.7496 - val_loss: nan - val_accuracy: 0.7490\n",
      "Epoch 8/10\n",
      "862/862 [==============================] - 6s 7ms/step - loss: 0.7597 - accuracy: 0.7585 - val_loss: nan - val_accuracy: 0.7643\n",
      "Epoch 9/10\n",
      "862/862 [==============================] - 6s 7ms/step - loss: 0.7325 - accuracy: 0.7673 - val_loss: nan - val_accuracy: 0.7711\n",
      "Epoch 10/10\n",
      "862/862 [==============================] - 6s 7ms/step - loss: 0.7031 - accuracy: 0.7761 - val_loss: nan - val_accuracy: 0.7772\n",
      "new jersey est parfois calme en mois et il et il est est en <PAD> <PAD> <PAD> <PAD> <PAD> <PAD> <PAD>\n"
     ]
    }
   ],
   "source": [
    "def simple_model(input_shape, output_sequence_length, english_vocab_size, french_vocab_size):\n",
    "\n",
    "    learning_rate = 1e-3\n",
    "    \n",
    "    inputs = Input(shape = input_shape[1:])\n",
    "    x = GRU(64, return_sequences = True)(inputs)\n",
    "    x = GRU(64, return_sequences = True)(x)\n",
    "    x = Dense(128, activation = 'relu')(x)\n",
    "    outputs = Dense(french_vocab_size, activation = 'softmax')(x)\n",
    "    \n",
    "    model = Model(inputs = inputs, outputs = outputs)\n",
    "    model.compile(loss=sparse_categorical_crossentropy,\n",
    "                  optimizer=Adam(learning_rate),\n",
    "                  metrics=['accuracy'])\n",
    "    return model\n",
    "\n",
    "# Reshaping the input to work with a basic RNN\n",
    "tmp_x = pad(preproc_english_sentences, max_french_sequence_length)\n",
    "tmp_x = tmp_x.reshape((-1, preproc_french_sentences.shape[-2], 1))\n",
    "\n",
    "# Train the neural network\n",
    "simple_rnn_model = simple_model(\n",
    "    tmp_x.shape,\n",
    "    max_french_sequence_length,\n",
    "    english_vocab_size,\n",
    "    french_vocab_size)\n",
    "simple_rnn_model.fit(tmp_x, preproc_french_sentences, batch_size=128, epochs=10, validation_split=0.2)\n",
    "\n",
    "# Print prediction(s)\n",
    "print(logits_to_text(simple_rnn_model.predict(tmp_x[:1])[0], french_tokenizer))"
   ]
  },
  {
   "cell_type": "markdown",
   "id": "ae5e68db",
   "metadata": {},
   "source": [
    "### Model 2. GRU With embedding"
   ]
  },
  {
   "cell_type": "code",
   "execution_count": 42,
   "id": "18d688d2",
   "metadata": {},
   "outputs": [
    {
     "name": "stdout",
     "output_type": "stream",
     "text": [
      "Epoch 1/10\n",
      "862/862 [==============================] - 10s 10ms/step - loss: 1.3628 - accuracy: 0.6837 - val_loss: nan - val_accuracy: 0.8228\n",
      "Epoch 2/10\n",
      "862/862 [==============================] - 8s 9ms/step - loss: 0.5117 - accuracy: 0.8477 - val_loss: nan - val_accuracy: 0.8643\n",
      "Epoch 3/10\n",
      "862/862 [==============================] - 8s 9ms/step - loss: 0.3895 - accuracy: 0.8782 - val_loss: nan - val_accuracy: 0.8878\n",
      "Epoch 4/10\n",
      "862/862 [==============================] - 8s 9ms/step - loss: 0.3303 - accuracy: 0.8945 - val_loss: nan - val_accuracy: 0.9009\n",
      "Epoch 5/10\n",
      "862/862 [==============================] - 8s 9ms/step - loss: 0.2945 - accuracy: 0.9043 - val_loss: nan - val_accuracy: 0.9083\n",
      "Epoch 6/10\n",
      "862/862 [==============================] - 8s 9ms/step - loss: 0.2692 - accuracy: 0.9113 - val_loss: nan - val_accuracy: 0.9132\n",
      "Epoch 7/10\n",
      "862/862 [==============================] - 8s 9ms/step - loss: 0.2519 - accuracy: 0.9160 - val_loss: nan - val_accuracy: 0.9157\n",
      "Epoch 8/10\n",
      "862/862 [==============================] - 8s 9ms/step - loss: 0.2390 - accuracy: 0.9195 - val_loss: nan - val_accuracy: 0.9185\n",
      "Epoch 9/10\n",
      "862/862 [==============================] - 8s 9ms/step - loss: 0.2296 - accuracy: 0.9222 - val_loss: nan - val_accuracy: 0.9230\n",
      "Epoch 10/10\n",
      "862/862 [==============================] - 8s 9ms/step - loss: 0.2220 - accuracy: 0.9242 - val_loss: nan - val_accuracy: 0.9246\n",
      "new jersey est parfois calme en l' automne et il est neigeux en avril <PAD> <PAD> <PAD> <PAD> <PAD> <PAD> <PAD>\n"
     ]
    }
   ],
   "source": [
    "def embed_model(input_shape, output_sequence_length, english_vocab_size, french_vocab_size):\n",
    "\n",
    "    learning_rate = 1e-3\n",
    "    \n",
    "    inputs = Input(shape = input_shape[1:])\n",
    "    x = Embedding(input_dim = english_vocab_size, output_dim = 128, input_length = input_shape[1])(inputs)\n",
    "    x = GRU(64, return_sequences = True)(x)\n",
    "    x = GRU(64, return_sequences = True)(x)\n",
    "    x = Dense(128, activation = 'relu')(x)\n",
    "    outputs = Dense(french_vocab_size, activation = 'softmax')(x)\n",
    "    \n",
    "    model = Model(inputs = inputs, outputs = outputs)\n",
    "    model.compile(loss=sparse_categorical_crossentropy,\n",
    "                  optimizer=Adam(learning_rate),\n",
    "                  metrics=['accuracy'])\n",
    "    \n",
    "    return model\n",
    "\n",
    "# Inputs reshape\n",
    "tmp_x = pad(preproc_english_sentences, max_french_sequence_length)\n",
    "# tmp_x = tmp_x.reshape((-1, preproc_french_sentences.shape[-2], 1))\n",
    "\n",
    "rnn_model_with_embedding = embed_model(\n",
    "    tmp_x.shape,\n",
    "    max_french_sequence_length,\n",
    "    english_vocab_size,\n",
    "    french_vocab_size)\n",
    "rnn_model_with_embedding.fit(tmp_x, preproc_french_sentences, batch_size=128, epochs=10, validation_split=0.2)\n",
    "\n",
    "# Print predictions\n",
    "print(logits_to_text(rnn_model_with_embedding.predict(tmp_x[:1])[0], french_tokenizer))"
   ]
  },
  {
   "cell_type": "markdown",
   "id": "21c6bbd1",
   "metadata": {},
   "source": [
    "### Model 3. Bidirectional GRU"
   ]
  },
  {
   "cell_type": "code",
   "execution_count": 46,
   "id": "df3a0466",
   "metadata": {},
   "outputs": [
    {
     "name": "stdout",
     "output_type": "stream",
     "text": [
      "Epoch 1/10\n",
      "108/108 [==============================] - 6s 25ms/step - loss: 2.7943 - accuracy: 0.4811 - val_loss: nan - val_accuracy: 0.5430\n",
      "Epoch 2/10\n",
      "108/108 [==============================] - 2s 19ms/step - loss: 1.6497 - accuracy: 0.5867 - val_loss: nan - val_accuracy: 0.6174\n",
      "Epoch 3/10\n",
      "108/108 [==============================] - 2s 18ms/step - loss: 1.3291 - accuracy: 0.6311 - val_loss: nan - val_accuracy: 0.6447\n",
      "Epoch 4/10\n",
      "108/108 [==============================] - 2s 18ms/step - loss: 1.1850 - accuracy: 0.6549 - val_loss: nan - val_accuracy: 0.6631\n",
      "Epoch 5/10\n",
      "108/108 [==============================] - 2s 19ms/step - loss: 1.0812 - accuracy: 0.6747 - val_loss: nan - val_accuracy: 0.6831\n",
      "Epoch 6/10\n",
      "108/108 [==============================] - 2s 18ms/step - loss: 1.0064 - accuracy: 0.6903 - val_loss: nan - val_accuracy: 0.6943\n",
      "Epoch 7/10\n",
      "108/108 [==============================] - 2s 18ms/step - loss: 0.9455 - accuracy: 0.7044 - val_loss: nan - val_accuracy: 0.7100\n",
      "Epoch 8/10\n",
      "108/108 [==============================] - 2s 19ms/step - loss: 0.9005 - accuracy: 0.7150 - val_loss: nan - val_accuracy: 0.7199\n",
      "Epoch 9/10\n",
      "108/108 [==============================] - 2s 18ms/step - loss: 0.8665 - accuracy: 0.7230 - val_loss: nan - val_accuracy: 0.7264\n",
      "Epoch 10/10\n",
      "108/108 [==============================] - 2s 18ms/step - loss: 0.8378 - accuracy: 0.7296 - val_loss: nan - val_accuracy: 0.7360\n",
      "new jersey est parfois calme en mois de il est est en avril <PAD> <PAD> <PAD> <PAD> <PAD> <PAD> <PAD> <PAD>\n"
     ]
    }
   ],
   "source": [
    "def bd_model(input_shape, output_sequence_length, english_vocab_size, french_vocab_size):\n",
    "\n",
    "    learning_rate = 1e-3\n",
    "    \n",
    "    inputs = Input(shape = input_shape[1:])\n",
    "    x = Bidirectional(GRU(64, return_sequences = True))(inputs)\n",
    "    x = Bidirectional(GRU(64, return_sequences = True))(x)\n",
    "    x = Dense(128, activation = 'relu')(x)\n",
    "    outputs = Dense(french_vocab_size, activation = 'softmax')(x)\n",
    "    \n",
    "    model = Model(inputs = inputs, outputs = outputs)\n",
    "    model.compile(loss=sparse_categorical_crossentropy,\n",
    "                  optimizer=Adam(learning_rate),\n",
    "                  metrics=['accuracy'])\n",
    "    \n",
    "    return model\n",
    "\n",
    "# Inputs reshape\n",
    "tmp_x = pad(preproc_english_sentences, max_french_sequence_length)\n",
    "tmp_x = tmp_x.reshape((-1, preproc_french_sentences.shape[-2], 1))\n",
    "\n",
    "bidirectional_rnn_model = bd_model(\n",
    "    tmp_x.shape,\n",
    "    max_french_sequence_length,\n",
    "    english_vocab_size,\n",
    "    french_vocab_size)\n",
    "\n",
    "# Train the model\n",
    "bidirectional_rnn_model.fit(tmp_x, preproc_french_sentences, batch_size=1024, epochs=10, validation_split=0.2)\n",
    "\n",
    "# Print predictions\n",
    "print(logits_to_text(bidirectional_rnn_model.predict(tmp_x[:1])[0], french_tokenizer))"
   ]
  },
  {
   "cell_type": "code",
   "execution_count": null,
   "id": "9cecf077",
   "metadata": {},
   "outputs": [],
   "source": [
    "!git add .\n",
    "!git commit -m \"\""
   ]
  }
 ],
 "metadata": {
  "kernelspec": {
   "display_name": "Python 3 (ipykernel)",
   "language": "python",
   "name": "python3"
  },
  "language_info": {
   "codemirror_mode": {
    "name": "ipython",
    "version": 3
   },
   "file_extension": ".py",
   "mimetype": "text/x-python",
   "name": "python",
   "nbconvert_exporter": "python",
   "pygments_lexer": "ipython3",
   "version": "3.9.7"
  }
 },
 "nbformat": 4,
 "nbformat_minor": 5
}
